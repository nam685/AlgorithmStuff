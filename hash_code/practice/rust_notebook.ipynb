{
 "cells": [
  {
   "cell_type": "code",
   "execution_count": 9,
   "metadata": {},
   "outputs": [],
   "source": [
    "use std::fs::File;\n",
    "use std::io::{BufReader, BufRead, Lines};\n",
    "use std::collections::HashMap;\n",
    "use std::ops::{Deref, DerefMut, Sub, Add};"
   ]
  },
  {
   "cell_type": "code",
   "execution_count": 10,
   "metadata": {},
   "outputs": [],
   "source": [
    "let file = File::open(\"c_many_ingredients.in\");\n",
    "let reader = BufReader::new(file.expect(\"Cannot open file\"));\n",
    "let mut lines = reader.lines();"
   ]
  },
  {
   "cell_type": "code",
   "execution_count": 11,
   "metadata": {},
   "outputs": [],
   "source": [
    "let first_line = lines.next().unwrap().unwrap();\n",
    "let infos = first_line.trim().split(' ').map(|val| val.parse::<u32>().unwrap()).collect::<Vec<_>>();\n",
    "\n",
    "let pizzas = infos[0];\n",
    "let nb_2 = infos[1];\n",
    "let nb_3 = infos[2];\n",
    "let nb_4 = infos[3];"
   ]
  },
  {
   "cell_type": "code",
   "execution_count": 12,
   "metadata": {},
   "outputs": [],
   "source": [
    "struct HashMapIterator(HashMap<&'static str, u16>, Lines<BufReader<File>>, u16);\n",
    "\n",
    "impl HashMapIterator {\n",
    "    fn new(lines: Lines<BufReader<File>>) -> HashMapIterator {\n",
    "        HashMapIterator(HashMap::new(), lines, 0)\n",
    "    }\n",
    "    \n",
    "    fn get_hash_map(self) -> HashMap<&'static str, u16> {\n",
    "        self.0\n",
    "    }\n",
    "    \n",
    "    fn consume(mut self) -> (HashMap<&'static str, u16>, Vec<Pizza>) {\n",
    "        let res = (&mut self).collect::<Vec<Pizza>>();\n",
    "        (self.0, res)\n",
    "    }\n",
    "}\n",
    "\n",
    "impl Iterator for HashMapIterator {\n",
    "    type Item = Pizza;\n",
    "    \n",
    "    fn next(&mut self) -> Option<Pizza> {\n",
    "        let line = match self.1.next() {\n",
    "            Some(line) => line.expect(\"Cannot read file\"),\n",
    "            None => return None,\n",
    "        };\n",
    "        let mut line_split = line.split(' ');\n",
    "        let mut ingredients = Vec::with_capacity(line_split.next().unwrap().parse().unwrap());\n",
    "        for ingredient in line_split {\n",
    "            ingredients.push(\n",
    "                if self.0.contains_key(ingredient){\n",
    "                    *self.0.get(ingredient).unwrap()\n",
    "                } else {\n",
    "                    self.0.insert(Box::leak(ingredient.to_string().into_boxed_str()), self.2);\n",
    "                    self.2 += 1;\n",
    "                    self.2 - 1\n",
    "                }\n",
    "            )\n",
    "        }\n",
    "        Some(Pizza::new(ingredients))\n",
    "    }\n",
    "}\n",
    "\n",
    "#[derive(Debug)]\n",
    "struct Pizza(Vec<u16>);\n",
    "\n",
    "impl Pizza {\n",
    "    fn new(mut ingredients: Vec<u16>) -> Pizza {\n",
    "        ingredients.sort();\n",
    "        Pizza(ingredients)\n",
    "    }\n",
    "    \n",
    "    fn fusion_diff(lhs: &[u16], rhs: &[u16], acc: usize) -> usize {\n",
    "        if lhs.len() == 0 {\n",
    "            rhs.len() + acc\n",
    "        } else if rhs.len() == 0 {\n",
    "            lhs.len() + acc\n",
    "        } else {\n",
    "            if lhs[0] == rhs[0] {\n",
    "                Self::fusion_diff(&lhs[1..], &rhs[1..], acc)\n",
    "            } else if lhs[0] < rhs[0] {\n",
    "                Self::fusion_diff(&lhs[1..], rhs, acc + 1)\n",
    "            } else {\n",
    "                Self::fusion_diff(lhs, &rhs[1..], acc + 1)\n",
    "            }\n",
    "        }\n",
    "    }\n",
    "    \n",
    "    fn fusion_add(lhs: &[u16], rhs: &[u16], mut acc: Pizza) -> Pizza {\n",
    "        if lhs.len() == 0 {\n",
    "            rhs.iter().for_each(|&ingredient| acc.push(ingredient));\n",
    "            acc\n",
    "        } else if rhs.len() == 0 {\n",
    "            lhs.iter().for_each(|&ingredient| acc.push(ingredient));\n",
    "            acc\n",
    "        } else {\n",
    "            if lhs[0] == rhs[0] {\n",
    "                acc.push(lhs[0]);\n",
    "                Self::fusion_add(&lhs[1..], &rhs[1..], acc)\n",
    "            } else if lhs[0] < rhs[0] {\n",
    "                acc.push(lhs[0]);\n",
    "                Self::fusion_add(&lhs[1..], rhs, acc)\n",
    "            } else {\n",
    "                acc.push(rhs[0]);\n",
    "                Self::fusion_add(lhs, &rhs[1..], acc)\n",
    "            }\n",
    "        }\n",
    "    }\n",
    "}\n",
    "\n",
    "impl Deref for Pizza {\n",
    "    type Target = Vec<u16>;\n",
    "    \n",
    "    fn deref(&self) -> &Vec<u16> {\n",
    "        &self.0\n",
    "    }\n",
    "}\n",
    "\n",
    "impl DerefMut for Pizza {\n",
    "    fn deref_mut(&mut self) -> &mut Vec<u16> {\n",
    "        &mut self.0\n",
    "    }\n",
    "}\n",
    "\n",
    "\n",
    "\n",
    "impl Sub<&Pizza> for &Pizza {\n",
    "    type Output = usize;\n",
    "    \n",
    "    fn sub(self, rhs: &Pizza) -> usize {\n",
    "        Pizza::fusion_diff(&self[..], &rhs[..], 0)\n",
    "    }\n",
    "}\n",
    "\n",
    "impl Add<&Pizza> for &Pizza {\n",
    "    type Output = Pizza;\n",
    "    \n",
    "    fn add(self, rhs: &Pizza) -> Pizza {\n",
    "        Pizza::fusion_add(&self[..], &rhs[..], Pizza::new(Vec::with_capacity(self.len())))\n",
    "    }\n",
    "}\n",
    "\n"
   ]
  },
  {
   "cell_type": "code",
   "execution_count": 13,
   "metadata": {},
   "outputs": [],
   "source": [
    "let res = HashMapIterator::new(lines).consume().1;\n",
    "//res"
   ]
  },
  {
   "cell_type": "code",
   "execution_count": 109,
   "metadata": {},
   "outputs": [],
   "source": [
    "let diff = res[..res.len() - 1].iter().enumerate().map( |(idx, pizza)| (0..=0).cycle().take(idx + 1).chain(res[idx + 1..].iter().map(move |pizza2| pizza - pizza2))).flatten().collect::<Vec<_>>();"
   ]
  },
  {
   "cell_type": "code",
   "execution_count": 73,
   "metadata": {},
   "outputs": [
    {
     "data": {
      "text/plain": [
       "1"
      ]
     },
     "execution_count": 73,
     "metadata": {},
     "output_type": "execute_result"
    }
   ],
   "source": [
    "diff_vec.iter().enumerate().fold((0, 0), |(idx_max, max), (idx, &elem)| {\n",
    "    if elem > max {\n",
    "        (idx, elem)\n",
    "    } else {\n",
    "        (idx_max, max)\n",
    "    }\n",
    "}).0"
   ]
  },
  {
   "cell_type": "code",
   "execution_count": 84,
   "metadata": {},
   "outputs": [
    {
     "data": {
      "text/plain": [
       "[0, 6, 4, 6, 5, 0, 0, 4, 0, 3, 0, 0, 0, 4, 3, 0, 0, 0, 0, 3]"
      ]
     },
     "execution_count": 84,
     "metadata": {},
     "output_type": "execute_result"
    }
   ],
   "source": [
    "diff"
   ]
  },
  {
   "cell_type": "code",
   "execution_count": 18,
   "metadata": {},
   "outputs": [
    {
     "data": {
      "text/plain": [
       "(5121, 5357, 1763)"
      ]
     },
     "execution_count": 18,
     "metadata": {},
     "output_type": "execute_result"
    }
   ],
   "source": [
    "res[..res.len() - 1].iter().enumerate().fold((0, 0, 0), |(i, j, max), (idx1, pizza1)| {\n",
    "    res[idx1 + 1..].iter().enumerate().fold((i, j, max), move |(i, j, max), (idx2, pizza2)| {\n",
    "        if pizza1.len() + pizza2.len() > max {\n",
    "            let new_max = pizza1 - pizza2; \n",
    "            if new_max > max {\n",
    "                return (idx1, idx2 + idx1 + 1, new_max)\n",
    "            }\n",
    "        }\n",
    "        (i, j,max)\n",
    "    })\n",
    "})"
   ]
  },
  {
   "cell_type": "code",
   "execution_count": 19,
   "metadata": {},
   "outputs": [],
   "source": [
    "use std::collections::BinaryHeap;\n",
    "use std::cmp::Reverse;"
   ]
  },
  {
   "cell_type": "code",
   "execution_count": 20,
   "metadata": {},
   "outputs": [
    {
     "data": {
      "text/plain": [
       "10000"
      ]
     },
     "execution_count": 20,
     "metadata": {},
     "output_type": "execute_result"
    }
   ],
   "source": []
  },
  {
   "cell_type": "code",
   "execution_count": null,
   "metadata": {},
   "outputs": [],
   "source": []
  }
 ],
 "metadata": {
  "kernelspec": {
   "display_name": "Rust",
   "language": "rust",
   "name": "rust"
  },
  "language_info": {
   "codemirror_mode": "rust",
   "file_extension": ".rs",
   "mimetype": "text/rust",
   "name": "Rust",
   "pygment_lexer": "rust",
   "version": ""
  }
 },
 "nbformat": 4,
 "nbformat_minor": 4
}
